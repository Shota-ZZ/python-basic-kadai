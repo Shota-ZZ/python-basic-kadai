{
  "nbformat": 4,
  "nbformat_minor": 0,
  "metadata": {
    "colab": {
      "provenance": []
    },
    "kernelspec": {
      "name": "python3",
      "display_name": "Python 3"
    },
    "language_info": {
      "name": "python"
    }
  },
  "cells": [
    {
      "cell_type": "code",
      "source": [
        "# Humanクラスのコンストラクタ、オブジェクトはname, ageを指定\n",
        "class Human:\n",
        "    def __init__(self, name, age):\n",
        "        self.name = name\n",
        "        self.age = age\n",
        "\n",
        "# 年齢が20歳以上かチェックして結果を出力する\n",
        "    def check_adult(self):\n",
        "        if self.age >= 20:\n",
        "            print(f\"{self.name}は大人です。\")\n",
        "        else:\n",
        "            print(f\"{self.name}は大人ではありません。\")\n",
        "\n",
        "# Humanクラスのインスタンスを複数生成し、リストに追加\n",
        "humans = [\n",
        "    Human(\"Alex\", 25),\n",
        "    Human(\"Jorge\", 18),\n",
        "    Human(\"Smith\", 30),\n",
        "    Human(\"Genova\", 10),\n",
        "    Human(\"Rucks\", 20)\n",
        "]\n",
        "\n",
        "# リストの要素数分だけcheck_adultメソッドを呼び出す\n",
        "print(\"--- 年齢チェックの結果 ---\")\n",
        "for human in humans:\n",
        "    human.check_adult()"
      ],
      "metadata": {
        "colab": {
          "base_uri": "https://localhost:8080/"
        },
        "id": "ZogT_ZkaZqsJ",
        "outputId": "3a26fe9f-dbb3-4fb9-8436-b4f8d63c7bc7"
      },
      "execution_count": 2,
      "outputs": [
        {
          "output_type": "stream",
          "name": "stdout",
          "text": [
            "--- 年齢チェックの結果 ---\n",
            "Alexは大人です。\n",
            "Jorgeは大人ではありません。\n",
            "Smithは大人です。\n",
            "Genovaは大人ではありません。\n",
            "Rucksは大人です。\n"
          ]
        }
      ]
    }
  ]
}