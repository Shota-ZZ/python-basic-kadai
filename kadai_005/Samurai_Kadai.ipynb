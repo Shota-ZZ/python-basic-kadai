{
  "nbformat": 4,
  "nbformat_minor": 0,
  "metadata": {
    "colab": {
      "provenance": []
    },
    "kernelspec": {
      "name": "python3",
      "display_name": "Python 3"
    },
    "language_info": {
      "name": "python"
    }
  },
  "cells": [
    {
      "cell_type": "code",
      "source": [
        "上辺 = 10\n",
        "下辺 = 20\n",
        "高さ = 5\n",
        "unit = \"cm²\"\n",
        "\n",
        "print((上辺+下辺)*高さ/2)\n",
        "\n",
        "print(f\"{((上辺+下辺)*高さ/2)}{unit} =（上辺＋下辺）× 高さ ÷ 2\")"
      ],
      "metadata": {
        "colab": {
          "base_uri": "https://localhost:8080/"
        },
        "id": "uZuMaUZlXx1z",
        "outputId": "610ead43-185d-4ebf-a152-4d8788ab6bc7"
      },
      "execution_count": 30,
      "outputs": [
        {
          "output_type": "stream",
          "name": "stdout",
          "text": [
            "75.0\n",
            "75.0cm² =（上辺＋下辺）× 高さ ÷ 2\n"
          ]
        }
      ]
    },
    {
      "cell_type": "code",
      "source": [],
      "metadata": {
        "id": "auSYwt7OZ5FQ"
      },
      "execution_count": null,
      "outputs": []
    }
  ]
}