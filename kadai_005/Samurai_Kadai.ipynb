{
  "nbformat": 4,
  "nbformat_minor": 0,
  "metadata": {
    "colab": {
      "provenance": []
    },
    "kernelspec": {
      "name": "python3",
      "display_name": "Python 3"
    },
    "language_info": {
      "name": "python"
    }
  },
  "cells": [
    {
      "cell_type": "code",
      "source": [
        "上辺 = 10\n",
        "下辺 = 20\n",
        "高さ = 5\n",
        "unit = \"cm²\"\n",
        "面積 = (上辺+下辺)*高さ/2\n",
        "\n",
        "\n",
        "print(f\"{面積}{unit} =（上辺＋下辺）× 高さ ÷ 2\")"
      ],
      "metadata": {
        "colab": {
          "base_uri": "https://localhost:8080/"
        },
        "id": "uZuMaUZlXx1z",
        "outputId": "84c615e5-ea70-4af9-81d9-4ea9fa3ed92e"
      },
      "execution_count": 34,
      "outputs": [
        {
          "output_type": "stream",
          "name": "stdout",
          "text": [
            "75.0cm² =（上辺＋下辺）× 高さ ÷ 2\n"
          ]
        }
      ]
    },
    {
      "cell_type": "code",
      "source": [],
      "metadata": {
        "id": "auSYwt7OZ5FQ"
      },
      "execution_count": null,
      "outputs": []
    }
  ]
}