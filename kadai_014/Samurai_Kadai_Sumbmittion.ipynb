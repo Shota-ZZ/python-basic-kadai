{
  "nbformat": 4,
  "nbformat_minor": 0,
  "metadata": {
    "colab": {
      "provenance": []
    },
    "kernelspec": {
      "name": "python3",
      "display_name": "Python 3"
    },
    "language_info": {
      "name": "python"
    }
  },
  "cells": [
    {
      "cell_type": "code",
      "source": [
        "tax = 1.1\n",
        "price1 = 100\n",
        "price2 = 200\n",
        "total_amount = (price1 + price2) * tax\n",
        "\n",
        "def total():\n",
        "    tax = 1.1\n",
        "    price1 = 100\n",
        "    price2 = 200\n",
        "    print (price1 + price2) * tax\n",
        "    print(total)\n",
        "\n",
        "print(total_amount)"
      ],
      "metadata": {
        "colab": {
          "base_uri": "https://localhost:8080/"
        },
        "id": "mMfCdyw0XsiI",
        "outputId": "5c4a1d31-9b64-42b8-b9ce-faa21ff249ae"
      },
      "execution_count": 25,
      "outputs": [
        {
          "output_type": "stream",
          "name": "stdout",
          "text": [
            "330.0\n"
          ]
        }
      ]
    }
  ]
}