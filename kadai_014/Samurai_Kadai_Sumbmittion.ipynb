{
  "nbformat": 4,
  "nbformat_minor": 0,
  "metadata": {
    "colab": {
      "provenance": []
    },
    "kernelspec": {
      "name": "python3",
      "display_name": "Python 3"
    },
    "language_info": {
      "name": "python"
    }
  },
  "cells": [
    {
      "cell_type": "code",
      "source": [
        "tax = 1.1\n",
        "price1 = 100\n",
        "price2 = 200\n",
        "total_amount = (price1 + price2) * tax\n",
        "\n",
        "def total():\n",
        "    tax = 1.1\n",
        "    price1 = 100\n",
        "    price2 = 200\n",
        "    return (price1 + price2) * tax\n",
        "print(total())\n",
        "\n",
        "print(total_amount)"
      ],
      "metadata": {
        "colab": {
          "base_uri": "https://localhost:8080/"
        },
        "id": "mMfCdyw0XsiI",
        "outputId": "035b3bd4-2211-4de4-e518-80084614187b"
      },
      "execution_count": 20,
      "outputs": [
        {
          "output_type": "stream",
          "name": "stdout",
          "text": [
            "330.0\n",
            "330.0\n"
          ]
        }
      ]
    }
  ]
}