{
  "nbformat": 4,
  "nbformat_minor": 0,
  "metadata": {
    "colab": {
      "provenance": []
    },
    "kernelspec": {
      "name": "python3",
      "display_name": "Python 3"
    },
    "language_info": {
      "name": "python"
    }
  },
  "cells": [
    {
      "cell_type": "code",
      "source": [
        "# 関数の引数として商品金額と税率を入力\n",
        "def total_price(price, tax):\n",
        "  total_amount = price + (price * tax / 100)\n",
        "  return total_amount\n",
        "\n",
        "# 関数の戻り値を変数に保存\n",
        "result = total_price(110, 10)\n",
        "# 計算結果を関数の外に出力\n",
        "print(result)"
      ],
      "metadata": {
        "colab": {
          "base_uri": "https://localhost:8080/"
        },
        "id": "_cGHut_mSJN3",
        "outputId": "df71f9ed-b16e-4201-9641-3f75427574c3"
      },
      "execution_count": 8,
      "outputs": [
        {
          "output_type": "stream",
          "name": "stdout",
          "text": [
            "121.0\n"
          ]
        }
      ]
    }
  ]
}