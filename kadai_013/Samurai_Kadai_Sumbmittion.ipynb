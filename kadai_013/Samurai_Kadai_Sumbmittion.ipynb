{
  "nbformat": 4,
  "nbformat_minor": 0,
  "metadata": {
    "colab": {
      "provenance": []
    },
    "kernelspec": {
      "name": "python3",
      "display_name": "Python 3"
    },
    "language_info": {
      "name": "python"
    }
  },
  "cells": [
    {
      "cell_type": "code",
      "source": [
        "def add_two_arguments(price, tax):\n",
        "    # 与えられた引数priceと引数taxを加算し、変数totalに代入する\n",
        "    total = price + tax\n",
        "\n",
        "    # 変数$totalの値を出力する\n",
        "    print(f\"{total}円\")\n",
        "\n",
        "# 関数を呼び出し、引数として購入金額と消費税を渡す\n",
        "add_two_arguments(110, 10)"
      ],
      "metadata": {
        "colab": {
          "base_uri": "https://localhost:8080/"
        },
        "id": "iCIti2wVMhxc",
        "outputId": "fabe2f96-7b49-452b-bbf5-3fd43bef8451"
      },
      "execution_count": 1,
      "outputs": [
        {
          "output_type": "stream",
          "name": "stdout",
          "text": [
            "120円\n"
          ]
        }
      ]
    }
  ]
}