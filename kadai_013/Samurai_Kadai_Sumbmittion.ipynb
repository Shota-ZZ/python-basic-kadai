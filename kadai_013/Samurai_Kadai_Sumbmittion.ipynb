{
  "nbformat": 4,
  "nbformat_minor": 0,
  "metadata": {
    "colab": {
      "provenance": []
    },
    "kernelspec": {
      "name": "python3",
      "display_name": "Python 3"
    },
    "language_info": {
      "name": "python"
    }
  },
  "cells": [
    {
      "cell_type": "code",
      "source": [
        "# 関数の引数として商品金額と税率を入力\n",
        "def total_price(price, tax):\n",
        "  total_amount = price + price * tax\n",
        "  return total_amount\n",
        "\n",
        "# 関数の戻り値を変数に保存\n",
        "result = total_price(100, 0.1)\n",
        "# 計算結果を関数の外に出力\n",
        "print(result)"
      ],
      "metadata": {
        "colab": {
          "base_uri": "https://localhost:8080/"
        },
        "id": "_cGHut_mSJN3",
        "outputId": "ec47ffd8-944f-4d47-cc4e-dec0bd950ec0"
      },
      "execution_count": 5,
      "outputs": [
        {
          "output_type": "stream",
          "name": "stdout",
          "text": [
            "110.0\n"
          ]
        }
      ]
    }
  ]
}